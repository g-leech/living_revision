{
 "cells": [
  {
   "cell_type": "markdown",
   "metadata": {},
   "source": [
    "## Maxima\n",
    "\n",
    "Shims to run Maxima from Python.\n",
    "\n",
    "Defaults to symbolic computation (exact)\n",
    "\n",
    "use `float()` to force approx evaluation"
   ]
  },
  {
   "cell_type": "code",
   "execution_count": 95,
   "metadata": {},
   "outputs": [],
   "source": [
    "import subprocess as sub\n",
    "import sys\n",
    "import re\n",
    "import numpy as np"
   ]
  },
  {
   "cell_type": "code",
   "execution_count": 128,
   "metadata": {},
   "outputs": [],
   "source": [
    "# http://maxima.sourceforge.net/docs/manual/maxima_singlepage.html#SEC7\n",
    "\n",
    "\n",
    "def run_maxima(cmd, echo=False) :\n",
    "    if echo :\n",
    "        print(\"\\n\", cmd, \":\")\n",
    "    \n",
    "    cmd = ['maxima', '-r'] + [cmd + ';']\n",
    "    outBytes = sub.run(cmd, stdout=sub.PIPE).stdout\n",
    "    out = outBytes.decode(\"utf-8\")\n",
    "    out = re.sub('\\n', '', out)\n",
    "    out = re.sub('.*information\\.', '', out)\n",
    "    lines = re.sub(\"\\(\\%\", \"\\n(\", out)\n",
    "    lines = re.sub(\"[ \\t]+\", \" \", lines)\n",
    "    lines = re.sub(\"--\\n--\", \"--\\n    \", lines)\n",
    "    lines = re.sub(\"--\", \"--\\n    \", lines)\n",
    "    lines = re.sub(\"\\(i2\\)\", \"\", lines)\n",
    "    lines = re.sub(\" --\\n    --\\n\", \"\", lines)\n",
    "    lines = re.sub(\"--\\n    -\", \"--\\n    \", lines)\n",
    "    print(lines)\n",
    "    #return lines\n",
    "\n",
    "def eval_maxima(cmd) :\n",
    "    cmd = \"float(\" + cmd + \")\"\n",
    "    run_in_maxima(cmd)\n",
    "\n",
    "\n",
    "def degs_to_rads(degs) :\n",
    "    return degs * np.pi / 180\n",
    "\n",
    "\n",
    "def degs_to_rads_str(degs) :\n",
    "    return str(degs) + \"* %pi/180\""
   ]
  },
  {
   "cell_type": "code",
   "execution_count": 130,
   "metadata": {},
   "outputs": [
    {
     "name": "stdout",
     "output_type": "stream",
     "text": [
      "\n",
      "(i1) I was called as _ \n",
      "(o1) _\n",
      " \n",
      "\n",
      " 2+3*4/5 :\n",
      "\n",
      "(i1) 22\n",
      "(o1) --\n",
      "     5\n",
      " \n",
      "or\n",
      "\n",
      "(i1) \n",
      "(o1) 4.4\n",
      " \n"
     ]
    }
   ],
   "source": [
    "cmd = 'print (\"I was called as\", _)'\n",
    "run_maxima(cmd)\n",
    "\n",
    "cmd = \"2+3*4/5\"\n",
    "run_maxima(cmd, echo=True)\n",
    "print(\"or\")\n",
    "eval_maxima(cmd)"
   ]
  },
  {
   "cell_type": "code",
   "execution_count": 132,
   "metadata": {},
   "outputs": [
    {
     "name": "stdout",
     "output_type": "stream",
     "text": [
      "\n",
      "(i1) \n",
      "(o1) 2\n",
      " \n",
      "\n",
      " sin(%pi/3) :\n",
      "\n",
      "(i1) sqrt(3)\n",
      "(o1)    --\n",
      "     2\n",
      " \n",
      "\n",
      "(i1) 1\n",
      "(o1)    --\n",
      "     sqrt(3)\n",
      " \n",
      "\n",
      "(i1) 4\n",
      "(o1) %e\n",
      " \n",
      "\n",
      "(i1) \n",
      "(o1) 1.223775431622115\n",
      " \n"
     ]
    }
   ],
   "source": [
    "cmd = \"32**(1/5)\"\n",
    "run_maxima(cmd)\n",
    "\n",
    "cmd = \"sin(%pi/3)\"\n",
    "run_maxima(cmd, echo=True)\n",
    "\n",
    "# tan 30, but have to pass in rads\n",
    "rads = degs_to_rads_str(30)\n",
    "cmd = \"tan({})\".format(rads)\n",
    "run_maxima(cmd)\n",
    "\n",
    "# Returns the argument if it's the simplest form\n",
    "cmd = \"%e^4\"\n",
    "run_maxima(cmd)\n",
    "\n",
    "# log is ln\n",
    "# Returns decimal if decimals in\n",
    "cmd = \"log(3.4)\"\n",
    "run_maxima(cmd)\n"
   ]
  },
  {
   "cell_type": "code",
   "execution_count": 135,
   "metadata": {},
   "outputs": [
    {
     "name": "stdout",
     "output_type": "stream",
     "text": [
      "\n",
      "(i1) \n",
      "(o1) 6.223015277861141E+13\n",
      " \n",
      "\n",
      "(i1) \n",
      "(o1) 6.223015277861141E+13\n",
      " \n"
     ]
    }
   ],
   "source": [
    "cmd = \"6.223015277861141 * 10^13\"\n",
    "run_maxima(cmd)\n",
    "\n",
    "# e != %e\n",
    "cmd = \"6.223015277861141\" + \"e13\"\n",
    "run_maxima(cmd)"
   ]
  },
  {
   "cell_type": "code",
   "execution_count": 142,
   "metadata": {},
   "outputs": [
    {
     "name": "stdout",
     "output_type": "stream",
     "text": [
      "\n",
      "(i1) \n",
      "(o1) 5 sqrt(13)\n",
      " \n",
      "\n",
      "(i1) \n",
      "(o1) 18.02775637731994\n",
      " \n",
      "\n",
      "(i1) sqrt(3)\n",
      "(o1) -    --\n",
      "     2\n",
      " \n",
      "\n",
      "(i1) sqrt(3)\n",
      "(o1) -    --\n",
      "     2\n",
      "(o2) - sqrt(3)\n",
      "(i3) \n"
     ]
    }
   ],
   "source": [
    "cmd = \"sqrt(325)\"\n",
    "run_maxima(cmd)\n",
    "eval_maxima(cmd)\n",
    "\n",
    "\n",
    "cmd = \"cos(5*%pi/6)\"\n",
    "run_maxima(cmd)\n",
    "\n",
    "# Multiply last result by 2\n",
    "cmd = cmd + \"; 2*%\"\n",
    "run_maxima(cmd)"
   ]
  },
  {
   "cell_type": "code",
   "execution_count": 154,
   "metadata": {},
   "outputs": [
    {
     "name": "stdout",
     "output_type": "stream",
     "text": [
      "\n",
      "(i1) sqrt(3)\n",
      "(o1) -    --\n",
      "     2\n",
      "(o2) 2\n",
      "(o3) 4\n",
      "(o4) 1\n",
      "(o5) 4\n",
      "(i6) \n",
      "\n",
      "(i1) \n",
      "(o1) 1\n",
      "(o2) 2\n",
      "(o3) [a, c]\n",
      "(i4) \n",
      "\n",
      "(i1) \n",
      "(o1) 1\n",
      "(o2) 2\n",
      "(o3) done\n",
      "(i4) \n",
      "\n",
      "(i1) 2\n",
      "(o1) x + 3\n",
      "(o2) 12\n",
      "(i3) \n"
     ]
    }
   ],
   "source": [
    "# Assignment with :\n",
    "# = is for equation constraints\n",
    "cmd = \"a : cos(5*%pi/6);\" \\\n",
    "        + \"a: 2;\" \\\n",
    "        + \"a: a*a;\" \\\n",
    "        + \"b: 1;\" \\\n",
    "        + \"a\"\n",
    "run_maxima(cmd)\n",
    "\n",
    "\n",
    "cmd = \"a:1; c:2; values\"\n",
    "run_maxima(cmd)\n",
    "\n",
    "cmd = \"a:1; c:2; kill(a)\"\n",
    "run_maxima(cmd)\n",
    "\n",
    "\n",
    "# subst is \"pass arg x=3 to c\"\n",
    "cmd = \"c: x^2+3;\" \\\n",
    "        + \"subst(3,x,c)\"\n",
    "run_maxima(cmd)\n",
    "# == 9+3 = 12"
   ]
  },
  {
   "cell_type": "code",
   "execution_count": 161,
   "metadata": {},
   "outputs": [
    {
     "name": "stdout",
     "output_type": "stream",
     "text": [
      "\n",
      "(i1) 4 x + x + 1\n",
      "(o1) f(x) :=          --\n",
      "     3 x - 13 x + 12 19\n",
      "(o2) - --\n",
      "     6 33333367\n",
      "(o3)        332904\n",
      "(i4) \n",
      "\n",
      "(i1) 4 x + x + 1\n",
      "(o1) f(x) :=          --\n",
      "     3 x - 13 x + 12expt: undefined: 0 to a negative exponent.#0: f(x=3) --\n",
      "     an error. To debug this try: debugmode(true);\n",
      "(i3) \n",
      "\n",
      "(i1) \n",
      "(o1) f(x) := 1\n",
      "(o2) [f(x)]\n",
      "(i3) \n"
     ]
    }
   ],
   "source": [
    "# Functions\n",
    "cmd = \"f(x) := (x^4+x+1)/(x^3-13*x+12)\"\n",
    "run_maxima(cmd + \"; f(2); f(100)\")\n",
    "run_maxima(cmd + \"; f(3)\") # undefined at x=3\n",
    "\n",
    "run_maxima(\"f(x) := 1; functions\")"
   ]
  },
  {
   "cell_type": "code",
   "execution_count": 167,
   "metadata": {},
   "outputs": [
    {
     "name": "stdout",
     "output_type": "stream",
     "text": [
      "\n",
      "(i1) \n",
      "(o1) [1, 4, 9, 16, 25, 36, 49, 64, 81, 100, 121, 144, 169, 196, 225, 256, 289, 324, 361, 400]\n",
      " \n",
      "\n",
      "(i1) \n",
      "(o1) [1, 3, 5, 7, 9, 11, 13, 15, 17, 19]\n",
      " \n",
      "\n",
      "(i1) \n",
      "(o1) [2, 5, 8, 11, 14, 17]\n",
      " \n",
      "\n",
      "(i1) \n",
      "(o1) [2, 5, 8, 11, 14, 17]\n",
      "(o2) [3, 6, 9, 12, 15, 18]\n",
      "(i3) \n"
     ]
    }
   ],
   "source": [
    "# Collections\n",
    "\n",
    "cmd = \"a:makelist(i^2, i, 1, 20)\"\n",
    "run_maxima(cmd)\n",
    "cmd = \"makelist(i, i, 1, 19, 2)\"\n",
    "run_maxima(cmd)\n",
    "cmd = \"makelist(i, i, 2, 19, 3)\"\n",
    "run_maxima(cmd)\n",
    "cmd = \"a:makelist(i, i, 2, 19, 3);\" \\\n",
    "        + \"makelist(i+1, i, a)\"\n",
    "run_maxima(cmd)"
   ]
  },
  {
   "cell_type": "code",
   "execution_count": 173,
   "metadata": {},
   "outputs": [
    {
     "name": "stdout",
     "output_type": "stream",
     "text": [
      "\n",
      "(i1) [ 2 ] [ ]\n",
      "(o1) [ 3 ] [ ] [ 6 ]\n",
      " \n",
      "\n",
      "(i1) [ 2 ] [ ]\n",
      "(o1) [ 3 ] [ ] [ 6 ]\n",
      "(o2) []\n",
      "(o3) [] [ 6 ] [ ]\n",
      "(o4) [ 9 ] [ ] [ 18 ]\n",
      "(i5) \n",
      "\n",
      "(i1) [ 1 ] [ ]\n",
      "(o1) [ 2 ] [ ] [ 3 ] [ 1 ] [ ]\n",
      "(o2) [ 2 ] [ ] [ 3 ]\n",
      "(o3) 14\n",
      "(i4) \n",
      "\n",
      "(i1) [ 2 - 3 3 ] [ ]\n",
      "(o1) [ - 2 1 2 ] [ ] [ 1 - 1 4 ]\n",
      " \n"
     ]
    }
   ],
   "source": [
    "# Vectors\n",
    "\n",
    "cmd = \"v:transpose([2,3,6])\"\n",
    "run_maxima(cmd)\n",
    "\n",
    "cmd = \"v:transpose([2,3,6]);\" \\\n",
    "        + \"print(); print(); 3*v\"\n",
    "run_maxima(cmd)\n",
    "\n",
    "cmd = \"v:transpose([1,2,3]);\" \\\n",
    "        \"w:transpose([1,2,3]);\" \\\n",
    "        + \"v . w\"\n",
    "run_maxima(cmd)\n",
    "\n",
    "cmd = \"P:matrix( [2,-3,3], [-2,1,2], [1,-1,4])\"\n",
    "run_maxima(cmd)"
   ]
  },
  {
   "cell_type": "code",
   "execution_count": 175,
   "metadata": {},
   "outputs": [
    {
     "name": "stdout",
     "output_type": "stream",
     "text": [
      "\n",
      "(i1) \n",
      "(o1) /usr/share/maxima/5.41.0/share/physics/physconst.mac 299792458 m\n",
      "(o2)       --\n",
      "     s\n",
      "(i3) \n"
     ]
    }
   ],
   "source": [
    "# SPEED OF LIGHT BABY\n",
    "cmd = \"load(physconst);\" \\\n",
    "        + \"float(%%c)\"\n",
    "    \n",
    "run_maxima(cmd)"
   ]
  },
  {
   "cell_type": "code",
   "execution_count": 179,
   "metadata": {},
   "outputs": [
    {
     "name": "stdout",
     "output_type": "stream",
     "text": [
      "\n",
      "(i1) \n",
      "(o1) [x = 1 - sqrt(3), x = sqrt(3) + 1, x = 2]\n",
      " \n",
      "\n",
      "(i1) \n",
      "(o1) [x = 1 - sqrt(3), x = sqrt(3) + 1, x = 2]\n",
      "(o2) 1 - sqrt(3)\n",
      "(i3) \n",
      "\n",
      "(i1) sqrt(5) - 5 sqrt(5) + 3\n",
      "(o1) [[x = -       --\n",
      "    , y =       --\n",
      "    ], 2 2 sqrt(5) + 5 sqrt(5) - 3 sqrt(5) - 7 sqrt(5) - 3[x =       --\n",
      "    , y = -       --\n",
      "    ], [x = -       --\n",
      "    , y = -       --\n",
      "    ], 2 2 2 2 sqrt(5) + 7 sqrt(5) + 3[x =       --\n",
      "    , y =       --\n",
      "    ]] 2 2\n",
      " \n"
     ]
    }
   ],
   "source": [
    "# SOLVER\n",
    "\n",
    "cmd = \"sol:solve(x^3 -4*x^2 + 2*x+4 = 0)\"\n",
    "run_maxima(cmd)\n",
    "\n",
    "cmd = \"sol:solve(x^3 -4*x^2 + 2*x+4 = 0);\" \\\n",
    "        + \"rhs(sol[1])\"\n",
    "run_maxima(cmd)\n",
    "\n",
    "# SIMULT!\n",
    "cmd = \"solve(\" \\\n",
    "        + \"[y = x^2 - 6*x + 9,\" \\\n",
    "        + \"(x-3)^2 + (y-2)^2 = 3], \" \\\n",
    "        + \"[x,y])\"\n",
    "run_maxima(cmd)"
   ]
  },
  {
   "cell_type": "code",
   "execution_count": 183,
   "metadata": {},
   "outputs": [
    {
     "name": "stdout",
     "output_type": "stream",
     "text": [
      "\n",
      "(i1) 9\n",
      "(o1) f(x) = x + 2 x - 1\n",
      "(o2) find_root(f(x), x, 0.0, 1.0)\n",
      "(i3) \n",
      "\n",
      "(i1) \n",
      "(o1) [x = 0.4990401803569676, x = 0.4207825521114528 %i - 1.058521241857364, x = (- 0.4207825521114528 %i) - 1.058521241857364, x = 1.01795501023027 %i - 0.4714669586482951, x = (- 1.01795501023027 %i) - 0.4714669586482951, x = 1.024451854329253 %i + 0.3548245783739534, x = 0.3548245783739534 - 1.024451854329253 %i, x = 0.4326584474822993 %i + 0.9256435319532224, x = 0.9256435319532224 - 0.4326584474822993 %i]\n",
      " \n"
     ]
    }
   ],
   "source": [
    "# Numerical approx\n",
    "\n",
    "# in [0,1]:\n",
    "cmd = \"f(x)=x^9 + 2*x - 1;\" \\\n",
    "        + \"find_root(f(x), x, 0, 1)\"\n",
    "run_maxima(cmd)\n",
    "\n",
    "# Real and complex\n",
    "cmd = \"allroots(x^9+2*x-1=0)\"\n",
    "run_maxima(cmd)"
   ]
  },
  {
   "cell_type": "code",
   "execution_count": 184,
   "metadata": {},
   "outputs": [
    {
     "name": "stdout",
     "output_type": "stream",
     "text": [
      "\n",
      "(i1) sin(x) 2 x cos(x)\n",
      "(o1) (-    --\n",
      "    ) -       --\n",
      "     2 2 2 x + 3 (x + 3)\n",
      " \n"
     ]
    }
   ],
   "source": [
    "# CALCULUS\n",
    "\n",
    "cmd = \"diff(cos(x)/(x^2+3),x)\"\n",
    "run_maxima(cmd )"
   ]
  }
 ],
 "metadata": {
  "kernelspec": {
   "display_name": "Python 3",
   "language": "python",
   "name": "python3"
  },
  "language_info": {
   "codemirror_mode": {
    "name": "ipython",
    "version": 3
   },
   "file_extension": ".py",
   "mimetype": "text/x-python",
   "name": "python",
   "nbconvert_exporter": "python",
   "pygments_lexer": "ipython3",
   "version": "3.6.4"
  }
 },
 "nbformat": 4,
 "nbformat_minor": 2
}
